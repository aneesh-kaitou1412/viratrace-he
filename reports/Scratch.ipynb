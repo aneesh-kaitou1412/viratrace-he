{
 "cells": [
  {
   "cell_type": "code",
   "execution_count": null,
   "metadata": {
    "scrolled": true
   },
   "outputs": [],
   "source": [
    "import itertools\n",
    "import json\n",
    "import matplotlib.pyplot as plt\n",
    "import numpy as np\n",
    "import pymc3 as pm\n",
    "import re\n",
    "import statsmodels.api as sm\n",
    "\n",
    "file_name = 'data/encode.json'\n",
    "batch_size = 4096\n",
    "\n",
    "with open(file_name, 'r') as f:\n",
    "    data = json.load(f)\n",
    "\n",
    "data = data['benchmarks']\n",
    "data = filter(lambda x: x['run_type'] == 'iteration', data)\n",
    "\n",
    "idxs = {}\n",
    "idx_ctr = 0\n",
    "\n",
    "def extract(x):\n",
    "    global idx_ctr\n",
    "    size = x['name']\n",
    "    size = re.findall(r'8192/(\\d{1,2})', size)\n",
    "    size = int(size[0])\n",
    "    real_time = x['real_time'] * 1000 # / (size * batch_size)\n",
    "        \n",
    "    if size in idxs:\n",
    "        idx = idxs[size]\n",
    "    else:\n",
    "        idx = idx_ctr\n",
    "        idxs[size] = idx_ctr\n",
    "        idx_ctr += 1\n",
    "    \n",
    "    res = {\n",
    "        \"size\": size,\n",
    "        \"idx\": idx,\n",
    "        \"real_time\": real_time\n",
    "    }\n",
    "    return res\n",
    "\n",
    "data = list(map(extract, data))\n",
    "data_grouped = itertools.groupby(data, lambda x: x['size'])\n",
    "\n",
    "def map_seq(size, xs):\n",
    "    xs = map(lambda x: x['real_time'], xs)\n",
    "    return (size, np.array(list(xs)))\n",
    "\n",
    "data_grouped = list(itertools.starmap(map_seq, data_grouped))"
   ]
  },
  {
   "cell_type": "code",
   "execution_count": null,
   "metadata": {
    "scrolled": true
   },
   "outputs": [],
   "source": [
    "n_rows = (len(data_grouped) + 1) // 2\n",
    "fig, axs = plt.subplots(n_rows, 2, figsize=(16, 8 * n_rows))\n",
    "\n",
    "for (idx, group) in enumerate(data_grouped):\n",
    "    row = idx // 2\n",
    "    col = idx % 2\n",
    "    ax = axs[row, col]\n",
    "    scale, series = group\n",
    "    ax.set_title(f'scale: {scale * batch_size}', fontsize=18)\n",
    "    sm.qqplot(data=series, ax=ax, line='s')\n",
    "\n",
    "if len(data_grouped) % 2 == 1:\n",
    "    axs[-1, -1].axis('off')"
   ]
  },
  {
   "cell_type": "code",
   "execution_count": null,
   "metadata": {
    "scrolled": true
   },
   "outputs": [],
   "source": [
    "y_idx = np.array([x['idx'] for x in data])\n",
    "mean_scale = np.array([x['size'] for x in data]) * batch_size\n",
    "sd_scale = np.sqrt(mean_scale)\n",
    "y_obs = np.array([x['real_time'] for x in data])\n",
    "\n",
    "with pm.Model() as model:\n",
    "    num_groups = len(data_grouped)\n",
    "    # hierarchical parameters\n",
    "    mu_0 = pm.Normal('mu_0', mu=1, sd=0.5)\n",
    "    sd_0 = pm.HalfNormal('sd_0', sd=0.5)\n",
    "    # population parameters\n",
    "    mu = pm.Normal('mu', mu=mu_0, sd=sd_0, shape=num_groups)\n",
    "    sd = pm.HalfNormal('sd', sd=0.3)\n",
    "    mu_scaled = pm.Deterministic('mu_scaled', mu[y_idx] * mean_scale)\n",
    "    sd_scaled = pm.Deterministic('sd_scaled', sd * sd_scale)\n",
    "    \n",
    "    nu_minus_1 = pm.Exponential('nu_minus_1', lam=1)\n",
    "    nu = pm.Deterministic('nu', 1 + nu_minus_1) # ensures dof >= 1\n",
    "    \n",
    "    y_pred = pm.StudentT('y_pred', mu=mu_scaled, sd=sd_scaled, nu=nu, observed=y_obs)\n",
    "    \n",
    "    trace = pm.sample(7000, chains=6, cores=6)\n",
    "\n",
    "chain = trace[2000:]"
   ]
  },
  {
   "cell_type": "code",
   "execution_count": null,
   "metadata": {
    "scrolled": false
   },
   "outputs": [],
   "source": [
    "fig, axs = plt.subplots(3, 3, figsize=(16, 18))\n",
    "\n",
    "titles = ['mu_0'] + [f'mu_{x[0] * batch_size}' for x in data_grouped]\n",
    "\n",
    "axs = pm.plot_posterior(\n",
    "    chain, \n",
    "    var_names=['mu_0', 'mu', 'sd', 'sd_0'], \n",
    "    credible_interval=0.95,\n",
    "    ax=axs,\n",
    "    round_to=4,\n",
    "    kind='hist'\n",
    ")\n",
    "\n",
    "# ax_idx = 0\n",
    "# for row in axs:\n",
    "#     for ax in row:\n",
    "#         ax.set_title(titles[ax_idx], fontsize=18)\n",
    "#         ax_idx += 1\n",
    "        \n",
    "# _ = fig.suptitle('Amortised Operation Time (μs) - Encode', fontsize=20)"
   ]
  }
 ],
 "metadata": {
  "kernelspec": {
   "display_name": "Python 3",
   "language": "python",
   "name": "python3"
  },
  "language_info": {
   "codemirror_mode": {
    "name": "ipython",
    "version": 3
   },
   "file_extension": ".py",
   "mimetype": "text/x-python",
   "name": "python",
   "nbconvert_exporter": "python",
   "pygments_lexer": "ipython3",
   "version": "3.7.6"
  }
 },
 "nbformat": 4,
 "nbformat_minor": 4
}
